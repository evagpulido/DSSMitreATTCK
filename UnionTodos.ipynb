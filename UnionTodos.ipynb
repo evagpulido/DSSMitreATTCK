{
 "cells": [
  {
   "cell_type": "code",
   "execution_count": 2,
   "id": "27524ce7-da0a-41c4-9531-b6b73d16e5da",
   "metadata": {},
   "outputs": [],
   "source": [
    "import pandas as pd\n",
    "import numpy as np\n",
    "import glob"
   ]
  },
  {
   "cell_type": "code",
   "execution_count": 6,
   "id": "1062ffd3-6b7c-4f47-a8fc-ed9aa5dcde5e",
   "metadata": {},
   "outputs": [],
   "source": [
    "# Obtener una lista con los nombres de los archivos .csv en el directorio actual\n",
    "csv_files = glob.glob('*.csv')\n"
   ]
  },
  {
   "cell_type": "code",
   "execution_count": 7,
   "id": "0a48f140-ca0a-4a70-a306-296d9847959f",
   "metadata": {},
   "outputs": [],
   "source": [
    "# Crear una lista vacía para almacenar los DataFrames\n",
    "dfs = []\n"
   ]
  },
  {
   "cell_type": "code",
   "execution_count": null,
   "id": "79eecda1-3acf-47a4-9c76-23e733bd4441",
   "metadata": {},
  
   "source": [
    "# Leer cada archivo .csv y almacenarlo como un DataFrame en la lista dfs\n",
    "for file in csv_files:\n",
    "    df = pd.read_csv(file)\n",
    "    dfs.append(df)"
   ]
  },
  {
   "cell_type": "code",
   "execution_count": 9,
   "id": "4abd6fc1-81b2-4555-b292-0fda06ce3918",
   "metadata": {},
   "outputs": [],
   "source": [
    "# Unir los DataFrames en uno solo\n",
    "combined_df = pd.concat(dfs, ignore_index=True)"
   ]
  },
  {
   "cell_type": "code",
   "execution_count": 10,
   "id": "c6599338-9967-49a6-a1c0-eee507508e8f",
   "metadata": {},
   "outputs": [],
   "source": [
    "# Guardar el DataFrame combinado como un archivo .csv\n",
    "combined_df.to_csv('combined.csv', index=False)"
   ]
  },
  {
   "cell_type": "code",
   "execution_count": 12,
   "id": "a11e3554-ddd9-49a7-a543-90ecadfc3171",
   "metadata": {},
   "outputs": [
    {
     "name": "stdout",
     "output_type": "stream",
     "text": [
      "El archivo tiene 433001 filas.\n"
     ]
    }
   ],
   "source": [
    "dftotal = pd.read_csv('combined.csv')\n",
    "num_filas = dftotal.shape[0]\n",
    "\n",
    "print('El archivo tiene', num_filas, 'filas.')"
   ]
  },
  {
   "cell_type": "code",
   "execution_count": 13,
   "id": "a05717e8-843f-4cc7-9a67-607f2402e2e8",
   "metadata": {},
   "outputs": [
    {
     "name": "stdout",
     "output_type": "stream",
     "text": [
      "El archivo Thursday-WorkingHours-Afternoon-Infilteration.pcap_ISCX.csv tiene 36 filas\n",
      "El archivo Monday-WorkingHours.pcap_ISCX.csv tiene 0 filas\n",
      "El archivo Friday-WorkingHours-Morning.pcap_ISCX.csv tiene 1966 filas\n",
      "El archivo Friday-WorkingHours-Afternoon-PortScan.pcap_ISCX.csv tiene 158930 filas\n",
      "El archivo Friday-WorkingHours-Afternoon-DDos.pcap_ISCX.csv tiene 128027 filas\n",
      "El archivo Tuesday-WorkingHours.pcap_ISCX.csv tiene 13835 filas\n",
      "El archivo Wednesday-workingHours.pcap_ISCX.csv tiene 128027 filas\n",
      "El archivo Thursday-WorkingHours-Morning-WebAttacks.pcap_ISCX.csv tiene 2180 filas\n"
     ]
    }
   ],
   "source": [
    "for file in csv_files:\n",
    "    df = pd.read_csv(file)\n",
    "    dfs.append(df)\n",
    "    print(f\"El archivo {file} tiene {len(df)} filas\")\n"
   ]
  },
  {
   "cell_type": "code",
   "execution_count": 14,
   "id": "ae913466-7107-4f10-b646-9bbcfe13bc2e",
   "metadata": {},
   "outputs": [
    {
     "name": "stdout",
     "output_type": "stream",
     "text": [
      "El archivo Thursday-WorkingHours-Afternoon-Infilteration.pcap_ISCX.csv tiene 36 filas\n",
      "El archivo Monday-WorkingHours.pcap_ISCX.csv tiene 0 filas\n",
      "El archivo Friday-WorkingHours-Morning.pcap_ISCX.csv tiene 1966 filas\n",
      "El archivo Friday-WorkingHours-Afternoon-PortScan.pcap_ISCX.csv tiene 158930 filas\n",
      "El archivo Friday-WorkingHours-Afternoon-DDos.pcap_ISCX.csv tiene 128027 filas\n",
      "El archivo Tuesday-WorkingHours.pcap_ISCX.csv tiene 13835 filas\n",
      "El archivo Wednesday-workingHours.pcap_ISCX.csv tiene 128027 filas\n",
      "El archivo Thursday-WorkingHours-Morning-WebAttacks.pcap_ISCX.csv tiene 2180 filas\n",
      "La suma total de filas es 433001\n"
     ]
    }
   ],
   "source": [
    "total_filas = 0\n",
    "for file in csv_files:\n",
    "    df = pd.read_csv(file)\n",
    "    dfs.append(df)\n",
    "    num_filas = len(df)\n",
    "    total_filas += num_filas\n",
    "    print(f\"El archivo {file} tiene {num_filas} filas\")\n",
    "\n",
    "print(f\"La suma total de filas es {total_filas}\")\n"
   ]
  },
  {
   "cell_type": "markdown",
   "id": "51a7e690-d06f-414b-aff3-47b863fb3399",
   "metadata": {},
   "source": [
    "COMPROBADO QUE EL ARCHIVO ESTA CORRECTO"
   ]
  },
  {
   "cell_type": "markdown",
   "id": "4e503296-213f-4f40-bd7e-30ff50b162cb",
   "metadata": {},
   "source": [
    ":)"
   ]
  }
 ],
 "metadata": {
  "kernelspec": {
   "display_name": "Python 3 (ipykernel)",
   "language": "python",
   "name": "python3"
  },
  "language_info": {
   "codemirror_mode": {
    "name": "ipython",
    "version": 3
   },
   "file_extension": ".py",
   "mimetype": "text/x-python",
   "name": "python",
   "nbconvert_exporter": "python",
   "pygments_lexer": "ipython3",
   "version": "3.9.13"
  }
 },
 "nbformat": 4,
 "nbformat_minor": 5
}
