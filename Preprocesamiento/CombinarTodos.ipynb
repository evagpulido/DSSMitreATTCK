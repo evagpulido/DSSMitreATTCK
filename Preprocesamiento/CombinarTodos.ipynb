{
 "cells": [
  {
   "cell_type": "code",
   "execution_count": 2,
   "id": "27524ce7-da0a-41c4-9531-b6b73d16e5da",
   "metadata": {},
   "outputs": [],
   "source": [
    "import pandas as pd\n",
    "import numpy as np\n",
    "import glob"
   ]
  },
  {
   "cell_type": "code",
   "execution_count": 6,
   "id": "1062ffd3-6b7c-4f47-a8fc-ed9aa5dcde5e",
   "metadata": {},
   "outputs": [],
   "source": [
    "# Obtener una lista con los nombres de los archivos .csv en el directorio actual\n",
    "csv_files = glob.glob('*.csv')\n"
   ]
  },
  {
   "cell_type": "code",
   "execution_count": 7,
   "id": "0a48f140-ca0a-4a70-a306-296d9847959f",
   "metadata": {},
   "outputs": [],
   "source": [
    "# Crear una lista vacía para almacenar los DataFrames\n",
    "dfs = []\n"
   ]
  },
  {
   "cell_type": "code",
   "execution_count": null,
   "id": "79eecda1-3acf-47a4-9c76-23e733bd4441",
   "metadata": {},
   "outputs": [],
   "source": [
    "# Leer cada archivo .csv y almacenarlo como un DataFrame en la lista dfs\n",
    "for file in csv_files:\n",
    "    df = pd.read_csv(file)\n",
    "    dfs.append(df)"
   ]
  },
  {
   "cell_type": "code",
   "execution_count": 9,
   "id": "4abd6fc1-81b2-4555-b292-0fda06ce3918",
   "metadata": {},
   "outputs": [],
   "source": [
    "# Unir los DataFrames en uno solo\n",
    "combined_df = pd.concat(dfs, ignore_index=True)"
   ]
  },
  {
   "cell_type": "code",
   "execution_count": 10,
   "id": "c6599338-9967-49a6-a1c0-eee507508e8f",
   "metadata": {},
   "outputs": [],
   "source": [
    "# Guardar el DataFrame combinado como un archivo .csv\n",
    "combined_df.to_csv('combined.csv', index=False)"
   ]
  }
 ],
 "metadata": {
  "kernelspec": {
   "display_name": "Python 3 (ipykernel)",
   "language": "python",
   "name": "python3"
  },
  "language_info": {
   "codemirror_mode": {
    "name": "ipython",
    "version": 3
   },
   "file_extension": ".py",
   "mimetype": "text/x-python",
   "name": "python",
   "nbconvert_exporter": "python",
   "pygments_lexer": "ipython3",
   "version": "3.9.13"
  }
 },
 "nbformat": 4,
 "nbformat_minor": 5
}
