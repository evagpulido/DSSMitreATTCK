{
 "cells": [
  {
   "cell_type": "code",
   "execution_count": 1,
   "id": "ae952cd5-1692-4cbd-8a58-e77075184ec8",
   "metadata": {},
   "outputs": [],
   "source": [
    "import re\n",
    "import csv\n",
    "\n",
    "# Expresiones regulares para los patrones de búsqueda y reemplazo\n",
    "patterns = [\n",
    "    (r'Web Attack  XSS', 'WebAttack_XSS'),\n",
    "    (r'Web Attack  Sql Injection', 'WebAttack_SqlInjection'),\n",
    "    (r'Web Attack  Brute Force', 'WebAttack_BruteForce')\n",
    "]\n",
    "\n",
    "# Función para aplicar los patrones de búsqueda y reemplazo en una cadena\n",
    "def apply_patterns(text):\n",
    "    for pattern, replacement in patterns:\n",
    "        text = re.sub(pattern, replacement, text)\n",
    "    return text\n",
    "\n",
    "# Leer el archivo CSV y aplicar los cambios\n",
    "with open('combined.csv', 'r') as file:\n",
    "    reader = csv.reader(file)\n",
    "    rows = list(reader)\n",
    "\n",
    "    # Aplicar los cambios en la columna 'Label' a partir de la segunda fila\n",
    "    for row in rows[1:]:\n",
    "        row[2] = apply_patterns(row[2])\n",
    "\n",
    "# Guardar el archivo CSV modificado\n",
    "with open('archivo_modificado2.csv', 'w', newline='') as file:\n",
    "    writer = csv.writer(file)\n",
    "    writer.writerows(rows)\n"
   ]
  },
  {
   "cell_type": "code",
   "execution_count": 1,
   "id": "722f2a82-f488-481d-bbba-dd3571bd5bcb",
   "metadata": {},
   "outputs": [
    {
     "ename": "NameError",
     "evalue": "name 'pd' is not defined",
     "output_type": "error",
     "traceback": [
      "\u001b[0;31m---------------------------------------------------------------------------\u001b[0m",
      "\u001b[0;31mNameError\u001b[0m                                 Traceback (most recent call last)",
      "Input \u001b[0;32mIn [1]\u001b[0m, in \u001b[0;36m<cell line: 1>\u001b[0;34m()\u001b[0m\n\u001b[0;32m----> 1\u001b[0m df_final \u001b[38;5;241m=\u001b[39m \u001b[43mpd\u001b[49m\u001b[38;5;241m.\u001b[39mread_csv(\u001b[38;5;124m'\u001b[39m\u001b[38;5;124marchivo_modificado2.csv\u001b[39m\u001b[38;5;124m'\u001b[39m)\n",
      "\u001b[0;31mNameError\u001b[0m: name 'pd' is not defined"
     ]
    }
   ],
   "source": [
    "df_final = pd.read_csv('archivo_modificado2.csv')\n"
   ]
  },
  {
   "cell_type": "code",
   "execution_count": null,
   "id": "88a90cbf-5dea-4708-90cd-c93af696bd28",
   "metadata": {},
   "outputs": [],
   "source": []
  }
 ],
 "metadata": {
  "kernelspec": {
   "display_name": "Python 3 (ipykernel)",
   "language": "python",
   "name": "python3"
  },
  "language_info": {
   "codemirror_mode": {
    "name": "ipython",
    "version": 3
   },
   "file_extension": ".py",
   "mimetype": "text/x-python",
   "name": "python",
   "nbconvert_exporter": "python",
   "pygments_lexer": "ipython3",
   "version": "3.9.13"
  }
 },
 "nbformat": 4,
 "nbformat_minor": 5
}
